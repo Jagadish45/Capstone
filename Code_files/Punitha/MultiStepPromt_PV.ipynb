{
  "nbformat": 4,
  "nbformat_minor": 0,
  "metadata": {
    "colab": {
      "provenance": []
    },
    "kernelspec": {
      "name": "python3",
      "display_name": "Python 3"
    },
    "language_info": {
      "name": "python"
    }
  },
  "cells": [
    {
      "cell_type": "code",
      "source": [
        "!pip install openai pandas fpdf\n"
      ],
      "metadata": {
        "colab": {
          "base_uri": "https://localhost:8080/"
        },
        "id": "6N5T6Bx7PBpT",
        "outputId": "cd75a477-6928-4e05-8a82-f389d541b700"
      },
      "execution_count": null,
      "outputs": [
        {
          "output_type": "stream",
          "name": "stdout",
          "text": [
            "Requirement already satisfied: openai in /usr/local/lib/python3.11/dist-packages (1.61.1)\n",
            "Requirement already satisfied: pandas in /usr/local/lib/python3.11/dist-packages (2.2.2)\n",
            "Requirement already satisfied: fpdf in /usr/local/lib/python3.11/dist-packages (1.7.2)\n",
            "Requirement already satisfied: anyio<5,>=3.5.0 in /usr/local/lib/python3.11/dist-packages (from openai) (3.7.1)\n",
            "Requirement already satisfied: distro<2,>=1.7.0 in /usr/local/lib/python3.11/dist-packages (from openai) (1.9.0)\n",
            "Requirement already satisfied: httpx<1,>=0.23.0 in /usr/local/lib/python3.11/dist-packages (from openai) (0.28.1)\n",
            "Requirement already satisfied: jiter<1,>=0.4.0 in /usr/local/lib/python3.11/dist-packages (from openai) (0.8.2)\n",
            "Requirement already satisfied: pydantic<3,>=1.9.0 in /usr/local/lib/python3.11/dist-packages (from openai) (2.10.6)\n",
            "Requirement already satisfied: sniffio in /usr/local/lib/python3.11/dist-packages (from openai) (1.3.1)\n",
            "Requirement already satisfied: tqdm>4 in /usr/local/lib/python3.11/dist-packages (from openai) (4.67.1)\n",
            "Requirement already satisfied: typing-extensions<5,>=4.11 in /usr/local/lib/python3.11/dist-packages (from openai) (4.12.2)\n",
            "Requirement already satisfied: numpy>=1.23.2 in /usr/local/lib/python3.11/dist-packages (from pandas) (1.26.4)\n",
            "Requirement already satisfied: python-dateutil>=2.8.2 in /usr/local/lib/python3.11/dist-packages (from pandas) (2.8.2)\n",
            "Requirement already satisfied: pytz>=2020.1 in /usr/local/lib/python3.11/dist-packages (from pandas) (2025.1)\n",
            "Requirement already satisfied: tzdata>=2022.7 in /usr/local/lib/python3.11/dist-packages (from pandas) (2025.1)\n",
            "Requirement already satisfied: idna>=2.8 in /usr/local/lib/python3.11/dist-packages (from anyio<5,>=3.5.0->openai) (3.10)\n",
            "Requirement already satisfied: certifi in /usr/local/lib/python3.11/dist-packages (from httpx<1,>=0.23.0->openai) (2025.1.31)\n",
            "Requirement already satisfied: httpcore==1.* in /usr/local/lib/python3.11/dist-packages (from httpx<1,>=0.23.0->openai) (1.0.7)\n",
            "Requirement already satisfied: h11<0.15,>=0.13 in /usr/local/lib/python3.11/dist-packages (from httpcore==1.*->httpx<1,>=0.23.0->openai) (0.14.0)\n",
            "Requirement already satisfied: annotated-types>=0.6.0 in /usr/local/lib/python3.11/dist-packages (from pydantic<3,>=1.9.0->openai) (0.7.0)\n",
            "Requirement already satisfied: pydantic-core==2.27.2 in /usr/local/lib/python3.11/dist-packages (from pydantic<3,>=1.9.0->openai) (2.27.2)\n",
            "Requirement already satisfied: six>=1.5 in /usr/local/lib/python3.11/dist-packages (from python-dateutil>=2.8.2->pandas) (1.17.0)\n"
          ]
        }
      ]
    },
    {
      "cell_type": "code",
      "source": [
        "!pip install -Uqqq pip --progress-bar off\n",
        "!pip install -qqq groq==0.13.0 --progress-bar off\n",
        "!pip install -qqq python-dotenv==1.0.1 --progress-bar off"
      ],
      "metadata": {
        "id": "rP2qUSsXPoTA"
      },
      "execution_count": null,
      "outputs": []
    },
    {
      "cell_type": "code",
      "source": [
        "pip install requests"
      ],
      "metadata": {
        "colab": {
          "base_uri": "https://localhost:8080/"
        },
        "id": "ofwmmaH4QCvG",
        "outputId": "dfcfed74-cd3d-4733-de46-c1f062bce7b8"
      },
      "execution_count": null,
      "outputs": [
        {
          "output_type": "stream",
          "name": "stdout",
          "text": [
            "Requirement already satisfied: requests in /usr/local/lib/python3.11/dist-packages (2.32.3)\n",
            "Requirement already satisfied: charset-normalizer<4,>=2 in /usr/local/lib/python3.11/dist-packages (from requests) (3.4.1)\n",
            "Requirement already satisfied: idna<4,>=2.5 in /usr/local/lib/python3.11/dist-packages (from requests) (3.10)\n",
            "Requirement already satisfied: urllib3<3,>=1.21.1 in /usr/local/lib/python3.11/dist-packages (from requests) (2.3.0)\n",
            "Requirement already satisfied: certifi>=2017.4.17 in /usr/local/lib/python3.11/dist-packages (from requests) (2025.1.31)\n"
          ]
        }
      ]
    },
    {
      "cell_type": "code",
      "source": [
        "import openai\n",
        "import pandas as pd\n",
        "import json\n",
        "from fpdf import FPDF\n",
        "\n",
        "OPENAI_API_KEY = \"APIKEY\""
      ],
      "metadata": {
        "id": "Fu5oP2MsvgKC"
      },
      "execution_count": null,
      "outputs": []
    },
    {
      "cell_type": "code",
      "execution_count": null,
      "metadata": {
        "id": "mhcW22_dMtUG",
        "colab": {
          "base_uri": "https://localhost:8080/"
        },
        "outputId": "05f0168b-ec6e-422d-ea42-de8943e1cc6c"
      },
      "outputs": [
        {
          "output_type": "stream",
          "name": "stdout",
          "text": [
            "Workflow Overview:\n",
            "1. Data collection\n",
            "2. Data cleaning\n",
            "3. Data exploration\n",
            "4. Feature engineering\n",
            "5. Model selection\n",
            "6. Model training\n",
            "7. Model evaluation\n",
            "8. Model optimization\n",
            "9. Predictions\n",
            "10. Deployment\n",
            "\n",
            "Rate your understanding of 'Data Cleaning & Preparation' from 1 (low) to 5 (high): 5\n",
            "\n",
            "Data Cleaning & Preparation details generated.\n",
            "\n",
            "Rate your understanding of 'Exploratory Data Analysis (EDA)' from 1 (low) to 5 (high): 5\n",
            "\n",
            "Exploratory Data Analysis (EDA) details generated.\n",
            "\n",
            "Rate your understanding of 'Machine Learning Algorithm Selection' from 1 (low) to 5 (high): 5\n",
            "\n",
            "Machine Learning Algorithm Selection details generated.\n",
            "\n",
            "Rate your understanding of 'Model Optimization & Feature Engineering' from 1 (low) to 5 (high): 5\n",
            "\n",
            "Model Optimization & Feature Engineering details generated.\n",
            "\n",
            "Rate your understanding of 'Deployment & Real-World Considerations' from 1 (low) to 5 (high): 5\n",
            "\n",
            "Deployment & Real-World Considerations details generated.\n",
            "Report saved as 'Detailed_Adaptive_Data_Science_Workflow_Report.pdf'\n"
          ]
        }
      ],
      "source": [
        "\n",
        "MISSING_VALUE_INDICATORS = [\"?\", \"NA\", \"N/A\", \"NaN\", \"NULL\", \"\", \"Unknown\", \"unknown\", \"missing\", \"Missing\"]\n",
        "\n",
        "def load_dataset(file_path):\n",
        "    try:\n",
        "        df = pd.read_csv(file_path, na_values=MISSING_VALUE_INDICATORS)\n",
        "        if df.empty:\n",
        "            raise ValueError(\"Dataset is empty\")\n",
        "        return df\n",
        "    except Exception as e:\n",
        "        print(f\"Error: {e}\")\n",
        "        return None\n",
        "\n",
        "def query_openai(prompt):\n",
        "    response = openai.chat.completions.create(\n",
        "        model=\"gpt-3.5-turbo\",\n",
        "        messages=[{\"role\": \"user\", \"content\": prompt}]\n",
        "    )\n",
        "    return response.choices[0].message.content\n",
        "\n",
        "class PDF(FPDF):\n",
        "    def header(self):\n",
        "        self.set_font(\"Arial\", \"B\", 14)\n",
        "        self.cell(0, 10, \"Data Science Workflow Report\", ln=True, align=\"C\")\n",
        "        self.ln(5)\n",
        "\n",
        "    def footer(self):\n",
        "        self.set_y(-15)\n",
        "        self.set_font(\"Arial\", \"I\", 10)\n",
        "        self.cell(0, 10, f\"Page {self.page_no()}\", align=\"C\")\n",
        "\n",
        "    def add_section(self, title, content):\n",
        "        self.set_font(\"Arial\", \"B\", 12)\n",
        "        self.cell(0, 10, title, ln=True)\n",
        "        self.set_font(\"Arial\", \"\", 12)\n",
        "        self.multi_cell(0, 8, content)\n",
        "        self.ln(2)\n",
        "\n",
        "def main():\n",
        "    file_path = \"Automobile_data.csv\"\n",
        "    df = load_dataset(file_path)\n",
        "\n",
        "    if df is None:\n",
        "        return\n",
        "\n",
        "    workflow_steps = [\"Data Cleaning & Preparation\", \"Exploratory Data Analysis (EDA)\",\n",
        "                      \"Machine Learning Algorithm Selection\", \"Model Optimization & Feature Engineering\",\n",
        "                      \"Deployment & Real-World Considerations\"]\n",
        "\n",
        "    detailed_outputs = {}\n",
        "    completed_tasks = \"\"\n",
        "\n",
        "    overview_prompt = \"\"\"\n",
        "    Given a dataset with columns: {columns}, simply list the key steps involved in the data science workflow without explanations.\n",
        "    \"\"\".format(columns=df.columns.tolist())\n",
        "\n",
        "    overview = query_openai(overview_prompt)\n",
        "    print(\"Workflow Overview:\")\n",
        "    print(overview)\n",
        "\n",
        "    for step in workflow_steps:\n",
        "        rating = int(input(f\"\\nRate your understanding of '{step}' from 1 (low) to 5 (high): \"))\n",
        "        detail_level = \"extremely detailed, comprehensive, beginner-friendly, including reasoning and methods\" if rating <= 2 else \"moderately detailed\" if rating <=4 else \"concise\"\n",
        "\n",
        "        step_prompt = f\"\"\"\n",
        "        Dataset columns: {df.columns.tolist()}.\n",
        "        Tasks previously covered: {completed_tasks if completed_tasks else 'None'}.\n",
        "\n",
        "        Provide an {detail_level} explanation specifically for the '{step}' step, clearly detailing:\n",
        "        - Exactly what needs to be done at this step (tasks specific to this dataset).\n",
        "        - Provide reasoning why each task is important.\n",
        "        - Explicit methods and instructions on how to perform each task.\n",
        "        Do not repeat or cover tasks that have already been explained in previous steps.\n",
        "        Avoid redundancy or unrelated discussions.\n",
        "        \"\"\"\n",
        "\n",
        "        response = query_openai(step_prompt)\n",
        "        detailed_outputs[step] = response\n",
        "        completed_tasks += f\"{step}: {response}\\n\\n\"\n",
        "        print(f\"\\n{step} details generated.\")\n",
        "\n",
        "    pdf = PDF()\n",
        "    pdf.add_page()\n",
        "\n",
        "    pdf.add_section(\"Workflow Overview\", overview)\n",
        "\n",
        "    for step, content in detailed_outputs.items():\n",
        "        pdf.add_section(step, content)\n",
        "\n",
        "    pdf.output(\"Report.pdf\")\n",
        "    print(\"Report saved as 'Report.pdf'\")\n",
        "\n",
        "if __name__ == \"__main__\":\n",
        "    main()\n"
      ]
    },
    {
      "cell_type": "code",
      "source": [],
      "metadata": {
        "id": "rN-I8ziuRTJp"
      },
      "execution_count": null,
      "outputs": []
    }
  ]
}